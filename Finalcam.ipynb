{
 "cells": [
  {
   "cell_type": "code",
   "execution_count": 2,
   "id": "cloudy-currency",
   "metadata": {},
   "outputs": [],
   "source": [
    "import cv2"
   ]
  },
  {
   "cell_type": "code",
   "execution_count": 1,
   "id": "loved-shirt",
   "metadata": {},
   "outputs": [
    {
     "name": "stdout",
     "output_type": "stream",
     "text": [
      "Hello\n"
     ]
    }
   ],
   "source": [
    "print(\"Hello\")"
   ]
  },
  {
   "cell_type": "code",
   "execution_count": 17,
   "id": "freelance-tamil",
   "metadata": {},
   "outputs": [],
   "source": [
    "import tkinter\n",
    "import cv2\n",
    "import PIL.Image, PIL.ImageTk\n",
    "import time \n",
    "\n",
    "class App:\n",
    "    def __init__(self, window, window_title, video_source_start, ncamlist):\n",
    "        self.window = window\n",
    "        self.window.title(window_title)\n",
    "        self.ncam = ncam\n",
    "        self.vid = {}\n",
    "        self.ret = {}\n",
    "        self.frame = {}\n",
    "        self.e = {}\n",
    "        self.video_source_start = video_source_start\n",
    "        self.photo = {}\n",
    "        self.imgtemp = {}\n",
    "        \n",
    "        #for i in range(0, video_source_start+ncam):\n",
    "            #self.video_source = video_source\n",
    "        # Add labels inside the software such that the camera takes input positions from the fields.\n",
    "        # 3x3 grid\n",
    "        col1 = [1, 2, 3, 1, 2, 3, 1, 2, 3] \n",
    "        row1 = [1, 1, 1, 3, 3, 3, 5, 5, 5] \n",
    "        row2 = [0, 0, 0, 2, 2, 2, 4, 4, 4]\n",
    "        colspan = [1, 1, 1, 1, 1, 1, 1, 1, 1]\n",
    "        for i in range(video_source_start, ncam):\n",
    "            self.e[str(i)] = tkinter.Entry(self.window, width = 35, borderwidth = 5)\n",
    "            self.e[str(i)].grid(row = row1[i] , column = col1[i], columnspan = colspan[i])\n",
    "            self.e[str(i)].insert(\"end\",i)\n",
    "            #self.e[str(i)].pack()\n",
    "        \n",
    "      # open video source (by default this will try to open the computer webcam)\n",
    "        for i in range(video_source_start, ncam):\n",
    "            self.vid[str(i)] = MyVideoCapture(i)\n",
    "        self.vid[''] = self.vid['0']  \n",
    "          \n",
    "      \n",
    "                \n",
    "      # Create a canvas that can fit the above video source size\n",
    "        #self.canvas = tkinter.Canvas(window, width = self.vid['0'].width, height = self.vid['0'].height)\n",
    "        self.canvas = tkinter.Canvas(window, width = 750, height = 750)\n",
    "        self.canvas.grid(row = 0, column = 0)\n",
    "        #self.canvas.pack()\n",
    "        \n",
    "       # Button that lets the user take a snapshot\n",
    "        self.btn_snapshot=tkinter.Button(window, text=\"Snapshot\", width=50, command=self.snapshot)\n",
    "        #self.btn_snapshot.pack(anchor=tkinter.CENTER, expand=True)\n",
    "        self.btn_snapshot.grid(row =6, column = 1, columnspan = 3 )\n",
    "       # After it is called once, the update method will be automatically called every delay milliseconds\n",
    "        self.delay = 15\n",
    "        self.update()\n",
    "        self.window.mainloop()\n",
    "\n",
    "    def snapshot(self):\n",
    "        # Get a frame from the video source\n",
    "        for i in range(self.video_source_start, self.video_source_start+self.ncam):\n",
    "            self.ret[str(i)], self.frame[str(i)] = self.vid[str(i)].get_frame()\n",
    "            \n",
    "        for i in range(self.video_source_start, self.video_source_start+self.ncam):\n",
    "            if self.ret[str(i)]:\n",
    "                cv2.imwrite(\"frame\"+str(i)+ time.strftime(\"%d-%m-%Y-%H-%M-%S\") + \".jpg\", cv2.cvtColor(self.frame[str(i)], cv2.COLOR_RGB2BGR))\n",
    "            \n",
    "\n",
    "    def update(self):\n",
    "        # Get a frame from the video source\n",
    "        \n",
    "        x = [0, 250, 500, 0, 250, 500, 0, 250, 500]\n",
    "        y = [0, 0, 0, 250, 250, 250, 500, 500, 500]\n",
    "        \n",
    "        for i in range(self.video_source_start,self.video_source_start+self.ncam):\n",
    "            self.ret[str(i)], self.frame[str(i)] = self.vid[self.e[str(i)].get()].get_frame()\n",
    "        imgtemp = {}\n",
    "        for i in range(self.video_source_start,self.video_source_start+self.ncam):\n",
    "            \n",
    "            if self.ret[str(i)]:\n",
    "                self.imgtemp[str(i)] = PIL.Image.fromarray(self.frame[str(i)])\n",
    "                self.imgtemp[str(i)] = self.imgtemp[str(i)].resize((250, 250), PIL.Image.ANTIALIAS)\n",
    "                self.photo[str(i)] = PIL.ImageTk.PhotoImage(image = self.imgtemp[str(i)])\n",
    "                #self.photo = self.photo.resize((250, 250), Image.ANTIALIAS)\n",
    "                self.canvas.create_image(x[i], y[i], image = self.photo[str(i)], anchor = tkinter.NW)\n",
    "        \n",
    "        self.window.after(self.delay, self.update)\n",
    " \n",
    " \n",
    "class MyVideoCapture:\n",
    "     def __init__(self, video_source):\n",
    "        # Open the video source\n",
    "        self.vid = cv2.VideoCapture(video_source)\n",
    "        if not self.vid.isOpened():\n",
    "             raise ValueError(\"Unable to open video source\", video_source)\n",
    " \n",
    "        # Get video source width and height\n",
    "        self.width = self.vid.get(cv2.CAP_PROP_FRAME_WIDTH)\n",
    "        self.height = self.vid.get(cv2.CAP_PROP_FRAME_HEIGHT)\n",
    " \n",
    "     def get_frame(self):\n",
    "        if self.vid.isOpened():\n",
    "            ret, frame = self.vid.read()\n",
    "            if ret:\n",
    "                # Return a boolean success flag and the current frame converted to BGR\n",
    "                return (ret, cv2.cvtColor(frame, cv2.COLOR_BGR2RGB))\n",
    "            else:\n",
    "                return (ret, None)\n",
    "        else:\n",
    "             return (ret, None)\n",
    " \n",
    "     # Release the video source when the object is destroyed\n",
    "     def __del__(self):\n",
    "        if self.vid.isOpened():\n",
    "            self.vid.release()\n",
    " \n",
    " # Create a window and pass it to the Application object"
   ]
  },
  {
   "cell_type": "code",
   "execution_count": 2,
   "id": "civil-fossil",
   "metadata": {},
   "outputs": [
    {
     "data": {
      "text/plain": [
       "<__main__.App at 0xb3cc9770>"
      ]
     },
     "execution_count": 2,
     "metadata": {},
     "output_type": "execute_result"
    }
   ],
   "source": [
    "App(tkinter.Tk(), \"Brain Cam\",0, )"
   ]
  },
  {
   "cell_type": "code",
   "execution_count": 9,
   "id": "divine-rugby",
   "metadata": {},
   "outputs": [
    {
     "name": "stdout",
     "output_type": "stream",
     "text": [
      "The availale ports are: 0 and listed below...\n",
      "[]\n"
     ]
    }
   ],
   "source": [
    "import cv2\n",
    "listport = []\n",
    "camlist = []\n",
    "for i in range(0, 22):\n",
    "    cam=cv2.VideoCapture(i)\n",
    "    \n",
    "    if cam.isOpened():\n",
    "        listport.append(i)\n",
    "        camlist.append(cam)\n",
    "    cam.release\n",
    "print(\"The availale ports are: {} and listed below...\".format(len(listport)))\n",
    "print(str(listport))\n"
   ]
  },
  {
   "cell_type": "code",
   "execution_count": 8,
   "id": "detailed-hierarchy",
   "metadata": {},
   "outputs": [
    {
     "data": {
      "text/plain": [
       "[]"
      ]
     },
     "execution_count": 8,
     "metadata": {},
     "output_type": "execute_result"
    }
   ],
   "source": [
    "listport"
   ]
  },
  {
   "cell_type": "code",
   "execution_count": 20,
   "id": "explicit-array",
   "metadata": {},
   "outputs": [
    {
     "data": {
      "text/plain": [
       "<VideoCapture 0xa698a270>"
      ]
     },
     "execution_count": 20,
     "metadata": {},
     "output_type": "execute_result"
    }
   ],
   "source": [
    "cam"
   ]
  },
  {
   "cell_type": "code",
   "execution_count": 4,
   "id": "controlling-patient",
   "metadata": {},
   "outputs": [
    {
     "data": {
      "text/plain": [
       "[<VideoCapture 0xb48503b0>,\n",
       " <VideoCapture 0xa6944fd0>,\n",
       " <VideoCapture 0xa6944fe0>,\n",
       " <VideoCapture 0xa6944f90>,\n",
       " <VideoCapture 0xa6944fa0>,\n",
       " <VideoCapture 0xa6944fc0>,\n",
       " <VideoCapture 0xa6944fb0>,\n",
       " <VideoCapture 0xa6907020>,\n",
       " <VideoCapture 0xa6907030>,\n",
       " <VideoCapture 0xa6907040>,\n",
       " <VideoCapture 0xa6907050>,\n",
       " <VideoCapture 0xa6907060>,\n",
       " <VideoCapture 0xa6907070>,\n",
       " <VideoCapture 0xa6907080>,\n",
       " <VideoCapture 0xa6907090>,\n",
       " <VideoCapture 0xa69070b0>,\n",
       " <VideoCapture 0xa69070c0>,\n",
       " <VideoCapture 0xa69070d0>,\n",
       " <VideoCapture 0xa69070e0>,\n",
       " <VideoCapture 0xa69070f0>,\n",
       " <VideoCapture 0xa6907100>,\n",
       " <VideoCapture 0xa6907110>]"
      ]
     },
     "execution_count": 4,
     "metadata": {},
     "output_type": "execute_result"
    }
   ],
   "source": [
    "camlist"
   ]
  },
  {
   "cell_type": "markdown",
   "id": "level-piano",
   "metadata": {},
   "source": [
    "# Final Multi Camera Capture"
   ]
  },
  {
   "cell_type": "markdown",
   "id": "civic-shipping",
   "metadata": {},
   "source": [
    "## Code to get the available ports (currently on)\n",
    "Note that you should quickly close the camera ports after capturing as the camera heat up pretty quickly"
   ]
  },
  {
   "cell_type": "code",
   "execution_count": 5,
   "id": "southeast-alpha",
   "metadata": {},
   "outputs": [
    {
     "name": "stdout",
     "output_type": "stream",
     "text": [
      "The availale ports are: 3 and listed below...\n",
      "[0, 14, 15]\n"
     ]
    }
   ],
   "source": [
    "import cv2\n",
    "listport = []\n",
    "camlist = []\n",
    "for i in range(0, 22):\n",
    "    cam=cv2.VideoCapture(i)\n",
    "    \n",
    "    if cam.isOpened():\n",
    "        listport.append(i)\n",
    "        camlist.append(cam)\n",
    "    #cam.release\n",
    "print(\"The availale ports are: {} and listed below...\".format(len(listport)))\n",
    "print(str(listport))\n"
   ]
  },
  {
   "cell_type": "code",
   "execution_count": 6,
   "id": "complimentary-productivity",
   "metadata": {},
   "outputs": [
    {
     "data": {
      "text/plain": [
       "[0]"
      ]
     },
     "execution_count": 6,
     "metadata": {},
     "output_type": "execute_result"
    }
   ],
   "source": [
    "listport[0:-2]"
   ]
  },
  {
   "cell_type": "code",
   "execution_count": 7,
   "id": "abroad-mapping",
   "metadata": {},
   "outputs": [],
   "source": [
    "import tkinter\n",
    "import cv2\n",
    "import PIL.Image, PIL.ImageTk\n",
    "import time \n",
    "\n",
    "class App:\n",
    "    def __init__(self, window, window_title, video_source_start, ncam, ncamlist):\n",
    "        self.window = window\n",
    "        self.window.title(window_title)\n",
    "        self.ncam = ncam\n",
    "        self.vid = {}\n",
    "        self.ret = {}\n",
    "        self.frame = {}\n",
    "        self.e = {}\n",
    "        #self.video_source_start = video_source_start\n",
    "        self.photo = {}\n",
    "        self.imgtemp = {}\n",
    "        self.ncamlist = ncamlist\n",
    "        \n",
    "        #for i in range(0, video_source_start+ncam):\n",
    "            #self.video_source = video_source\n",
    "        # Add labels inside the software such that the camera takes input positions from the fields.\n",
    "        # 3x3 grid\n",
    "        col1 = [1, 2, 3, 1, 2, 3, 1, 2, 3] \n",
    "        row1 = [1, 1, 1, 3, 3, 3, 5, 5, 5] \n",
    "        row2 = [0, 0, 0, 2, 2, 2, 4, 4, 4]\n",
    "        colspan = [1, 1, 1, 1, 1, 1, 1, 1, 1]\n",
    "        for i in range(len(self.ncamlist)):\n",
    "            self.e[str(i)] = tkinter.Entry(self.window, width = 35, borderwidth = 5)\n",
    "            self.e[str(i)].grid(row = row1[i] , column = col1[i], columnspan = colspan[i])\n",
    "            self.e[str(i)].insert(\"end\",i)\n",
    "            #self.e[str(i)].pack()\n",
    "        \n",
    "      # open video source (by default this will try to open the computer webcam)\n",
    "        for i in range(len(self.ncamlist)):\n",
    "            self.vid[str(i)] = MyVideoCapture(self.ncamlist[i])\n",
    "        self.vid[''] = self.vid['0']  \n",
    "          \n",
    "      \n",
    "                \n",
    "      # Create a canvas that can fit the above video source size\n",
    "        #self.canvas = tkinter.Canvas(window, width = self.vid['0'].width, height = self.vid['0'].height)\n",
    "        self.canvas = tkinter.Canvas(window, width = 750, height = 750)\n",
    "        self.canvas.grid(row = 0, column = 0)\n",
    "        #self.canvas.pack()\n",
    "        \n",
    "       # Button that lets the user take a snapshot\n",
    "        self.btn_snapshot=tkinter.Button(window, text=\"Snapshot\", width=50, command=self.snapshot)\n",
    "        #self.btn_snapshot.pack(anchor=tkinter.CENTER, expand=True)\n",
    "        self.btn_snapshot.grid(row =6, column = 1, columnspan = 3 )\n",
    "       # After it is called once, the update method will be automatically called every delay milliseconds\n",
    "        self.delay = 15\n",
    "        self.update()\n",
    "        self.window.mainloop()\n",
    "\n",
    "    def snapshot(self):\n",
    "        # Get a frame from the video source\n",
    "        for i in range(len(self.ncamlist)):\n",
    "            self.ret[str(i)], self.frame[str(i)] = self.vid[str(i)].get_frame()\n",
    "            \n",
    "        for i in range(len(self.ncamlist)):\n",
    "            if self.ret[str(i)]:\n",
    "                cv2.imwrite(\"frame\"+str(i)+ time.strftime(\"%d-%m-%Y-%H-%M-%S\") + \".jpg\", cv2.cvtColor(self.frame[str(i)], cv2.COLOR_RGB2BGR))\n",
    "            \n",
    "\n",
    "    def update(self):\n",
    "        # Get a frame from the video source\n",
    "        \n",
    "        x = [0, 250, 500, 0, 250, 500, 0, 250, 500]\n",
    "        y = [0, 0, 0, 250, 250, 250, 500, 500, 500]\n",
    "        \n",
    "        for i in range(len(self.ncamlist)):\n",
    "            self.ret[str(i)], self.frame[str(i)] = self.vid[self.e[str(i)].get()].get_frame()\n",
    "        imgtemp = {}\n",
    "        for i in range(len(self.ncamlist)):\n",
    "            \n",
    "            if self.ret[str(i)]:\n",
    "                self.imgtemp[str(i)] = PIL.Image.fromarray(self.frame[str(i)])\n",
    "                self.imgtemp[str(i)] = self.imgtemp[str(i)].resize((250, 250), PIL.Image.ANTIALIAS)\n",
    "                self.photo[str(i)] = PIL.ImageTk.PhotoImage(image = self.imgtemp[str(i)])\n",
    "                #self.photo = self.photo.resize((250, 250), Image.ANTIALIAS)\n",
    "                self.canvas.create_image(x[i], y[i], image = self.photo[str(i)], anchor = tkinter.NW)\n",
    "        \n",
    "        self.window.after(self.delay, self.update)\n",
    " \n",
    " \n",
    "class MyVideoCapture:\n",
    "     def __init__(self, video_source):\n",
    "        # Open the video source\n",
    "        self.vid = cv2.VideoCapture(video_source)\n",
    "        if not self.vid.isOpened():\n",
    "             raise ValueError(\"Unable to open video source\", video_source)\n",
    " \n",
    "        # Get video source width and height\n",
    "        self.width = self.vid.get(cv2.CAP_PROP_FRAME_WIDTH)\n",
    "        self.height = self.vid.get(cv2.CAP_PROP_FRAME_HEIGHT)\n",
    " \n",
    "     def get_frame(self):\n",
    "        if self.vid.isOpened():\n",
    "            ret, frame = self.vid.read()\n",
    "            if ret:\n",
    "                # Return a boolean success flag and the current frame converted to BGR\n",
    "                return (ret, cv2.cvtColor(frame, cv2.COLOR_BGR2RGB))\n",
    "            else:\n",
    "                return (ret, None)\n",
    "        else:\n",
    "             return (ret, None)\n",
    " \n",
    "     # Release the video source when the object is destroyed\n",
    "     def __del__(self):\n",
    "        if self.vid.isOpened():\n",
    "            self.vid.release()\n",
    " \n",
    " # Create a window and pass it to the Application object"
   ]
  },
  {
   "cell_type": "code",
   "execution_count": 8,
   "id": "smart-archives",
   "metadata": {},
   "outputs": [
    {
     "ename": "ValueError",
     "evalue": "('Unable to open video source', 0)",
     "output_type": "error",
     "traceback": [
      "\u001b[0;31m---------------------------------------------------------------------------\u001b[0m",
      "\u001b[0;31mValueError\u001b[0m                                Traceback (most recent call last)",
      "\u001b[0;32m<ipython-input-8-c5258709791e>\u001b[0m in \u001b[0;36m<module>\u001b[0;34m\u001b[0m\n\u001b[0;32m----> 1\u001b[0;31m \u001b[0mApp\u001b[0m\u001b[0;34m(\u001b[0m\u001b[0mtkinter\u001b[0m\u001b[0;34m.\u001b[0m\u001b[0mTk\u001b[0m\u001b[0;34m(\u001b[0m\u001b[0;34m)\u001b[0m\u001b[0;34m,\u001b[0m \u001b[0;34m\"Brain Cam\"\u001b[0m\u001b[0;34m,\u001b[0m\u001b[0;36m0\u001b[0m\u001b[0;34m,\u001b[0m\u001b[0;36m2\u001b[0m\u001b[0;34m,\u001b[0m\u001b[0mlistport\u001b[0m\u001b[0;34m[\u001b[0m\u001b[0;36m0\u001b[0m\u001b[0;34m:\u001b[0m\u001b[0;34m-\u001b[0m\u001b[0;36m2\u001b[0m\u001b[0;34m]\u001b[0m\u001b[0;34m)\u001b[0m\u001b[0;34m\u001b[0m\u001b[0;34m\u001b[0m\u001b[0m\n\u001b[0m",
      "\u001b[0;32m<ipython-input-7-d9c17a53ace3>\u001b[0m in \u001b[0;36m__init__\u001b[0;34m(self, window, window_title, video_source_start, ncam, ncamlist)\u001b[0m\n\u001b[1;32m     34\u001b[0m       \u001b[0;31m# open video source (by default this will try to open the computer webcam)\u001b[0m\u001b[0;34m\u001b[0m\u001b[0;34m\u001b[0m\u001b[0;34m\u001b[0m\u001b[0m\n\u001b[1;32m     35\u001b[0m         \u001b[0;32mfor\u001b[0m \u001b[0mi\u001b[0m \u001b[0;32min\u001b[0m \u001b[0mrange\u001b[0m\u001b[0;34m(\u001b[0m\u001b[0mlen\u001b[0m\u001b[0;34m(\u001b[0m\u001b[0mself\u001b[0m\u001b[0;34m.\u001b[0m\u001b[0mncamlist\u001b[0m\u001b[0;34m)\u001b[0m\u001b[0;34m)\u001b[0m\u001b[0;34m:\u001b[0m\u001b[0;34m\u001b[0m\u001b[0;34m\u001b[0m\u001b[0m\n\u001b[0;32m---> 36\u001b[0;31m             \u001b[0mself\u001b[0m\u001b[0;34m.\u001b[0m\u001b[0mvid\u001b[0m\u001b[0;34m[\u001b[0m\u001b[0mstr\u001b[0m\u001b[0;34m(\u001b[0m\u001b[0mi\u001b[0m\u001b[0;34m)\u001b[0m\u001b[0;34m]\u001b[0m \u001b[0;34m=\u001b[0m \u001b[0mMyVideoCapture\u001b[0m\u001b[0;34m(\u001b[0m\u001b[0mself\u001b[0m\u001b[0;34m.\u001b[0m\u001b[0mncamlist\u001b[0m\u001b[0;34m[\u001b[0m\u001b[0mi\u001b[0m\u001b[0;34m]\u001b[0m\u001b[0;34m)\u001b[0m\u001b[0;34m\u001b[0m\u001b[0;34m\u001b[0m\u001b[0m\n\u001b[0m\u001b[1;32m     37\u001b[0m         \u001b[0mself\u001b[0m\u001b[0;34m.\u001b[0m\u001b[0mvid\u001b[0m\u001b[0;34m[\u001b[0m\u001b[0;34m''\u001b[0m\u001b[0;34m]\u001b[0m \u001b[0;34m=\u001b[0m \u001b[0mself\u001b[0m\u001b[0;34m.\u001b[0m\u001b[0mvid\u001b[0m\u001b[0;34m[\u001b[0m\u001b[0;34m'0'\u001b[0m\u001b[0;34m]\u001b[0m\u001b[0;34m\u001b[0m\u001b[0;34m\u001b[0m\u001b[0m\n\u001b[1;32m     38\u001b[0m \u001b[0;34m\u001b[0m\u001b[0m\n",
      "\u001b[0;32m<ipython-input-7-d9c17a53ace3>\u001b[0m in \u001b[0;36m__init__\u001b[0;34m(self, video_source)\u001b[0m\n\u001b[1;32m     90\u001b[0m         \u001b[0mself\u001b[0m\u001b[0;34m.\u001b[0m\u001b[0mvid\u001b[0m \u001b[0;34m=\u001b[0m \u001b[0mcv2\u001b[0m\u001b[0;34m.\u001b[0m\u001b[0mVideoCapture\u001b[0m\u001b[0;34m(\u001b[0m\u001b[0mvideo_source\u001b[0m\u001b[0;34m)\u001b[0m\u001b[0;34m\u001b[0m\u001b[0;34m\u001b[0m\u001b[0m\n\u001b[1;32m     91\u001b[0m         \u001b[0;32mif\u001b[0m \u001b[0;32mnot\u001b[0m \u001b[0mself\u001b[0m\u001b[0;34m.\u001b[0m\u001b[0mvid\u001b[0m\u001b[0;34m.\u001b[0m\u001b[0misOpened\u001b[0m\u001b[0;34m(\u001b[0m\u001b[0;34m)\u001b[0m\u001b[0;34m:\u001b[0m\u001b[0;34m\u001b[0m\u001b[0;34m\u001b[0m\u001b[0m\n\u001b[0;32m---> 92\u001b[0;31m              \u001b[0;32mraise\u001b[0m \u001b[0mValueError\u001b[0m\u001b[0;34m(\u001b[0m\u001b[0;34m\"Unable to open video source\"\u001b[0m\u001b[0;34m,\u001b[0m \u001b[0mvideo_source\u001b[0m\u001b[0;34m)\u001b[0m\u001b[0;34m\u001b[0m\u001b[0;34m\u001b[0m\u001b[0m\n\u001b[0m\u001b[1;32m     93\u001b[0m \u001b[0;34m\u001b[0m\u001b[0m\n\u001b[1;32m     94\u001b[0m         \u001b[0;31m# Get video source width and height\u001b[0m\u001b[0;34m\u001b[0m\u001b[0;34m\u001b[0m\u001b[0;34m\u001b[0m\u001b[0m\n",
      "\u001b[0;31mValueError\u001b[0m: ('Unable to open video source', 0)"
     ]
    }
   ],
   "source": [
    "App(tkinter.Tk(), \"Brain Cam\",0,2,listport[0:-2])"
   ]
  },
  {
   "cell_type": "code",
   "execution_count": null,
   "id": "proprietary-medicare",
   "metadata": {},
   "outputs": [],
   "source": []
  }
 ],
 "metadata": {
  "kernelspec": {
   "display_name": "Python 3",
   "language": "python",
   "name": "python3"
  },
  "language_info": {
   "codemirror_mode": {
    "name": "ipython",
    "version": 3
   },
   "file_extension": ".py",
   "mimetype": "text/x-python",
   "name": "python",
   "nbconvert_exporter": "python",
   "pygments_lexer": "ipython3",
   "version": "3.7.9"
  }
 },
 "nbformat": 4,
 "nbformat_minor": 5
}
